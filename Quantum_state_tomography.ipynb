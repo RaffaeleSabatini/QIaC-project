{
 "cells": [
  {
   "cell_type": "code",
   "execution_count": 2,
   "id": "255b9cb5",
   "metadata": {},
   "outputs": [],
   "source": [
    "import numpy as np\n",
    "import pandas as pd\n",
    "import numpy.random as rnd\n",
    "import scipy.linalg as la\n",
    "from joblib import delayed, Parallel\n",
    "from scipy.optimize import minimize\n",
    "from qutip import *"
   ]
  },
  {
   "cell_type": "markdown",
   "id": "0770148a",
   "metadata": {},
   "source": [
    "# Linear inversion"
   ]
  },
  {
   "cell_type": "code",
   "execution_count": 3,
   "id": "590a86ff",
   "metadata": {},
   "outputs": [
    {
     "data": {
      "text/plain": [
       "array([[ 1. +0.j , -0.5+0.5j, -0.5-0.5j,  0.5+0.j ],\n",
       "       [-0.5-0.5j,  0. +0.j ,  0. +0.5j,  0. +0.j ],\n",
       "       [-0.5+0.5j,  0. -0.5j,  0. +0.j ,  0. +0.j ],\n",
       "       [ 0.5+0.j ,  0. +0.j ,  0. +0.j ,  0. +0.j ]])"
      ]
     },
     "execution_count": 3,
     "metadata": {},
     "output_type": "execute_result"
    }
   ],
   "source": [
    "import numpy as np\n",
    "\n",
    "M1 = 0.5 * np.array([[2, -(1-1j), -(1+1j), 1],\n",
    "                     [-(1+1j), 0, 1j, 0],\n",
    "                     [-(1-1j), -1j, 0, 0],\n",
    "                     [1, 0, 0, 0]]) #cite: 18\n",
    "\n",
    "M2 = 0.5 * np.array([[0, -(1-1j), 0, 1],\n",
    "                     [-(1+1j), 2, 1j, -(1+1j)],\n",
    "                     [0, -1j, 0, 0],\n",
    "                     [1, -(1+1j), 0, 0]]) #cite: 18\n",
    "\n",
    "M3 = 0.5 * np.array([[0, 0, 0, 1],\n",
    "                     [0, 0, 1j, -(1+1j)],\n",
    "                     [0, -1j, 0, -(1-1j)],\n",
    "                     [1, -(1-1j), -(1+1j), 2]]) #cite: 18\n",
    "\n",
    "M4 = 0.5 * np.array([[0, 0, -(1+1j), 1],\n",
    "                     [0, 0, 1j, 0],\n",
    "                     [-(1-1j), -1j, 2, -(1-1j)],\n",
    "                     [1, 0, -(1+1j), 0]]) #cite: 18\n",
    "\n",
    "M5 = 0.5 * np.array([[0, 0, 2j, -(1+1j)],\n",
    "                     [0, 0, (1-1j), 0],\n",
    "                     [-2j, (1+1j), 0, 0],\n",
    "                     [-(1-1j), 0, 0, 0]]) #cite: 18\n",
    "\n",
    "M6 = 0.5 * np.array([[0, 0, 0, -(1+1j)],\n",
    "                     [0, 0, (1-1j), 2j],\n",
    "                     [0, (1+1j), 0, 0],\n",
    "                     [-(1-1j), -2j, 0, 0]]) #cite: 19\n",
    "\n",
    "M7 = 0.5 * np.array([[0, 0, 0, -(1+1j)],\n",
    "                     [0, 0, -(1-1j), 2],\n",
    "                     [0, -(1+1j), 0, 0],\n",
    "                     [-(1-1j), 2, 0, 0]]) #cite: 19\n",
    "\n",
    "M8 = 0.5 * np.array([[0, 0, 2, -(1+1j)],\n",
    "                     [0, 0, -(1-1j), 0],\n",
    "                     [2, -(1+1j), 0, 0],\n",
    "                     [-(1-1j), 0, 0, 0]]) #cite: 2, 6, 7, 9, 10, 11, 12, 13, 14 (Note: This matrix definition appears to be spread across multiple lines in the source, so it has been reconstructed. The last row and column are empty according to the input.)\n",
    "\n",
    "M9 = np.array([[0, 0, 0, 1j],\n",
    "               [0, 0, -1j, 0],\n",
    "               [0, 1j, 0, 0],\n",
    "               [-1j, 0, 0, 0]]) #cite: 15\n",
    "\n",
    "M10 = np.array([[0, 0, 0, 1],\n",
    "                [0, 0, 1, 0],\n",
    "                [0, 1, 0, 0],\n",
    "                [1, 0, 0, 0]]) #cite: 15\n",
    "\n",
    "M11 = np.array([[0, 0, 0, 1j],\n",
    "                [0, 0, 1j, 0],\n",
    "                [0, -1j, 0, 0],\n",
    "                [-1j, 0, 0, 0]]) #cite: 16\n",
    "\n",
    "M12 = 0.5 * np.array([[0, 2, 0, -(1+1j)],\n",
    "                      [2, 0, -(1+1j), 0],\n",
    "                      [0, -(1-1j), 0, 0],\n",
    "                      [-(1-1j), 0, 0, 0]]) #cite: 18\n",
    "\n",
    "M13 = 0.5 * np.array([[0, 0, 0, -(1+1j)],\n",
    "                      [0, 0, -(1+1j), 0],\n",
    "                      [0, -(1-1j), 0, 2],\n",
    "                      [-(1-1j), 0, 2, 0]]) #cite: 18\n",
    "\n",
    "M14 = 0.5 * np.array([[0, 0, 0, -(1-1j)],\n",
    "                      [0, 0, -(1-1j), 0],\n",
    "                      [0, -(1+1j), 0, -2j],\n",
    "                      [-(1+1j), 0, 2j, 0]]) #cite: 18\n",
    "\n",
    "M15 = 0.5 * np.array([[0, -2j, 0, -(1-1j)],\n",
    "                      [2j, 0, (1-1j), 0],\n",
    "                      [0, (1+1j), 0, 0],\n",
    "                      [-(1+1j), 0, 0, 0]]) #cite: 18\n",
    "\n",
    "M16 = np.array([[0, 0, 0, 1],\n",
    "                [0, 0, -1, 0],\n",
    "                [0, -1, 0, 0],\n",
    "                [1, 0, 0, 0]]) #cite: 21\n",
    "\n",
    "matrices = [M1, M2, M3, M4, M5, M6, M7, M8, M9, M10, M11, M12, M13, M14, M15, M16]\n",
    "qutip_mtrx = [Qobj(M) for M in matrices]\n",
    "\n",
    "M = dict(zip(range(1, 17), qutip_mtrx))\n",
    "M1"
   ]
  },
  {
   "cell_type": "code",
   "execution_count": 6,
   "id": "cb885155",
   "metadata": {},
   "outputs": [
    {
     "name": "stderr",
     "output_type": "stream",
     "text": [
      "/var/folders/bq/c0v_5_v15yv4wrwpv0d4mc1r0000gn/T/ipykernel_3909/1073705700.py:11: FutureWarning: Setting an item of incompatible dtype is deprecated and will raise in a future error of pandas. Value '[0.         0.         0.         0.         0.78539816 0.78539816\n",
      " 0.78539816 0.78539816 0.78539816 0.78539816 0.78539816 0.\n",
      " 0.         0.         0.         0.78539816]' has dtype incompatible with int64, please explicitly cast to a compatible dtype first.\n",
      "  data.loc[:, 'HWPa':'QWPb'] *= np.pi/180\n",
      "/var/folders/bq/c0v_5_v15yv4wrwpv0d4mc1r0000gn/T/ipykernel_3909/1073705700.py:11: FutureWarning: Setting an item of incompatible dtype is deprecated and will raise in a future error of pandas. Value '[ 0.          0.          0.          0.          0.          0.\n",
      "  0.          0.         -0.78539816 -0.78539816 -0.78539816 -0.78539816\n",
      " -0.78539816 -0.78539816 -0.78539816 -0.78539816]' has dtype incompatible with int64, please explicitly cast to a compatible dtype first.\n",
      "  data.loc[:, 'HWPa':'QWPb'] *= np.pi/180\n"
     ]
    },
    {
     "data": {
      "text/html": [
       "<div>\n",
       "<style scoped>\n",
       "    .dataframe tbody tr th:only-of-type {\n",
       "        vertical-align: middle;\n",
       "    }\n",
       "\n",
       "    .dataframe tbody tr th {\n",
       "        vertical-align: top;\n",
       "    }\n",
       "\n",
       "    .dataframe thead th {\n",
       "        text-align: right;\n",
       "    }\n",
       "</style>\n",
       "<table border=\"1\" class=\"dataframe\">\n",
       "  <thead>\n",
       "    <tr style=\"text-align: right;\">\n",
       "      <th></th>\n",
       "      <th>A</th>\n",
       "      <th>B</th>\n",
       "      <th>HWPa</th>\n",
       "      <th>QWPa</th>\n",
       "      <th>HWPb</th>\n",
       "      <th>QWPb</th>\n",
       "      <th>Phi-</th>\n",
       "      <th>Phi+</th>\n",
       "      <th>Decoher.</th>\n",
       "    </tr>\n",
       "    <tr>\n",
       "      <th>idx</th>\n",
       "      <th></th>\n",
       "      <th></th>\n",
       "      <th></th>\n",
       "      <th></th>\n",
       "      <th></th>\n",
       "      <th></th>\n",
       "      <th></th>\n",
       "      <th></th>\n",
       "      <th></th>\n",
       "    </tr>\n",
       "  </thead>\n",
       "  <tbody>\n",
       "    <tr>\n",
       "      <th>1</th>\n",
       "      <td>H</td>\n",
       "      <td>H</td>\n",
       "      <td>0.000000</td>\n",
       "      <td>0.000000</td>\n",
       "      <td>0.000000</td>\n",
       "      <td>0.000000</td>\n",
       "      <td>3831</td>\n",
       "      <td>3672.0</td>\n",
       "      <td>18320.0</td>\n",
       "    </tr>\n",
       "    <tr>\n",
       "      <th>2</th>\n",
       "      <td>H</td>\n",
       "      <td>V</td>\n",
       "      <td>0.000000</td>\n",
       "      <td>0.000000</td>\n",
       "      <td>0.785398</td>\n",
       "      <td>0.000000</td>\n",
       "      <td>45</td>\n",
       "      <td>35.0</td>\n",
       "      <td>290.0</td>\n",
       "    </tr>\n",
       "    <tr>\n",
       "      <th>3</th>\n",
       "      <td>V</td>\n",
       "      <td>V</td>\n",
       "      <td>0.785398</td>\n",
       "      <td>0.000000</td>\n",
       "      <td>0.785398</td>\n",
       "      <td>0.000000</td>\n",
       "      <td>3655</td>\n",
       "      <td>3671.0</td>\n",
       "      <td>19310.0</td>\n",
       "    </tr>\n",
       "    <tr>\n",
       "      <th>4</th>\n",
       "      <td>V</td>\n",
       "      <td>H</td>\n",
       "      <td>0.785398</td>\n",
       "      <td>0.000000</td>\n",
       "      <td>0.000000</td>\n",
       "      <td>0.000000</td>\n",
       "      <td>71</td>\n",
       "      <td>75.0</td>\n",
       "      <td>430.0</td>\n",
       "    </tr>\n",
       "    <tr>\n",
       "      <th>5</th>\n",
       "      <td>R</td>\n",
       "      <td>H</td>\n",
       "      <td>0.785398</td>\n",
       "      <td>0.785398</td>\n",
       "      <td>0.000000</td>\n",
       "      <td>0.000000</td>\n",
       "      <td>2218</td>\n",
       "      <td>2218.0</td>\n",
       "      <td>2218.0</td>\n",
       "    </tr>\n",
       "    <tr>\n",
       "      <th>6</th>\n",
       "      <td>R</td>\n",
       "      <td>V</td>\n",
       "      <td>0.785398</td>\n",
       "      <td>0.785398</td>\n",
       "      <td>0.785398</td>\n",
       "      <td>0.000000</td>\n",
       "      <td>1607</td>\n",
       "      <td>1607.0</td>\n",
       "      <td>1607.0</td>\n",
       "    </tr>\n",
       "    <tr>\n",
       "      <th>7</th>\n",
       "      <td>D</td>\n",
       "      <td>V</td>\n",
       "      <td>0.392699</td>\n",
       "      <td>0.785398</td>\n",
       "      <td>0.785398</td>\n",
       "      <td>0.000000</td>\n",
       "      <td>1577</td>\n",
       "      <td>1577.0</td>\n",
       "      <td>1577.0</td>\n",
       "    </tr>\n",
       "    <tr>\n",
       "      <th>8</th>\n",
       "      <td>D</td>\n",
       "      <td>H</td>\n",
       "      <td>0.392699</td>\n",
       "      <td>0.785398</td>\n",
       "      <td>0.000000</td>\n",
       "      <td>0.000000</td>\n",
       "      <td>2219</td>\n",
       "      <td>2219.0</td>\n",
       "      <td>2219.0</td>\n",
       "    </tr>\n",
       "    <tr>\n",
       "      <th>9</th>\n",
       "      <td>D</td>\n",
       "      <td>R</td>\n",
       "      <td>0.392699</td>\n",
       "      <td>0.785398</td>\n",
       "      <td>0.000000</td>\n",
       "      <td>-0.785398</td>\n",
       "      <td>2305</td>\n",
       "      <td>2305.0</td>\n",
       "      <td>2305.0</td>\n",
       "    </tr>\n",
       "    <tr>\n",
       "      <th>10</th>\n",
       "      <td>D</td>\n",
       "      <td>D</td>\n",
       "      <td>0.392699</td>\n",
       "      <td>0.785398</td>\n",
       "      <td>0.392699</td>\n",
       "      <td>-0.785398</td>\n",
       "      <td>408</td>\n",
       "      <td>3253.0</td>\n",
       "      <td>3908.0</td>\n",
       "    </tr>\n",
       "    <tr>\n",
       "      <th>11</th>\n",
       "      <td>R</td>\n",
       "      <td>D</td>\n",
       "      <td>0.785398</td>\n",
       "      <td>0.785398</td>\n",
       "      <td>0.392699</td>\n",
       "      <td>-0.785398</td>\n",
       "      <td>2444</td>\n",
       "      <td>2444.0</td>\n",
       "      <td>2444.0</td>\n",
       "    </tr>\n",
       "    <tr>\n",
       "      <th>12</th>\n",
       "      <td>H</td>\n",
       "      <td>D</td>\n",
       "      <td>0.000000</td>\n",
       "      <td>0.000000</td>\n",
       "      <td>0.392699</td>\n",
       "      <td>-0.785398</td>\n",
       "      <td>1934</td>\n",
       "      <td>1934.0</td>\n",
       "      <td>1934.0</td>\n",
       "    </tr>\n",
       "    <tr>\n",
       "      <th>13</th>\n",
       "      <td>V</td>\n",
       "      <td>D</td>\n",
       "      <td>0.785398</td>\n",
       "      <td>0.000000</td>\n",
       "      <td>0.392699</td>\n",
       "      <td>-0.785398</td>\n",
       "      <td>1588</td>\n",
       "      <td>1588.0</td>\n",
       "      <td>1588.0</td>\n",
       "    </tr>\n",
       "    <tr>\n",
       "      <th>14</th>\n",
       "      <td>V</td>\n",
       "      <td>L</td>\n",
       "      <td>0.785398</td>\n",
       "      <td>0.000000</td>\n",
       "      <td>0.785398</td>\n",
       "      <td>-0.785398</td>\n",
       "      <td>1493</td>\n",
       "      <td>1493.0</td>\n",
       "      <td>1493.0</td>\n",
       "    </tr>\n",
       "    <tr>\n",
       "      <th>15</th>\n",
       "      <td>H</td>\n",
       "      <td>L</td>\n",
       "      <td>0.000000</td>\n",
       "      <td>0.000000</td>\n",
       "      <td>0.785398</td>\n",
       "      <td>-0.785398</td>\n",
       "      <td>2102</td>\n",
       "      <td>2102.0</td>\n",
       "      <td>2102.0</td>\n",
       "    </tr>\n",
       "    <tr>\n",
       "      <th>16</th>\n",
       "      <td>R</td>\n",
       "      <td>L</td>\n",
       "      <td>0.785398</td>\n",
       "      <td>0.785398</td>\n",
       "      <td>0.785398</td>\n",
       "      <td>-0.785398</td>\n",
       "      <td>370</td>\n",
       "      <td>2839.0</td>\n",
       "      <td>4687.0</td>\n",
       "    </tr>\n",
       "  </tbody>\n",
       "</table>\n",
       "</div>"
      ],
      "text/plain": [
       "     A  B      HWPa      QWPa      HWPb      QWPb  Phi-    Phi+  Decoher.\n",
       "idx                                                                      \n",
       "1    H  H  0.000000  0.000000  0.000000  0.000000  3831  3672.0   18320.0\n",
       "2    H  V  0.000000  0.000000  0.785398  0.000000    45    35.0     290.0\n",
       "3    V  V  0.785398  0.000000  0.785398  0.000000  3655  3671.0   19310.0\n",
       "4    V  H  0.785398  0.000000  0.000000  0.000000    71    75.0     430.0\n",
       "5    R  H  0.785398  0.785398  0.000000  0.000000  2218  2218.0    2218.0\n",
       "6    R  V  0.785398  0.785398  0.785398  0.000000  1607  1607.0    1607.0\n",
       "7    D  V  0.392699  0.785398  0.785398  0.000000  1577  1577.0    1577.0\n",
       "8    D  H  0.392699  0.785398  0.000000  0.000000  2219  2219.0    2219.0\n",
       "9    D  R  0.392699  0.785398  0.000000 -0.785398  2305  2305.0    2305.0\n",
       "10   D  D  0.392699  0.785398  0.392699 -0.785398   408  3253.0    3908.0\n",
       "11   R  D  0.785398  0.785398  0.392699 -0.785398  2444  2444.0    2444.0\n",
       "12   H  D  0.000000  0.000000  0.392699 -0.785398  1934  1934.0    1934.0\n",
       "13   V  D  0.785398  0.000000  0.392699 -0.785398  1588  1588.0    1588.0\n",
       "14   V  L  0.785398  0.000000  0.785398 -0.785398  1493  1493.0    1493.0\n",
       "15   H  L  0.000000  0.000000  0.785398 -0.785398  2102  2102.0    2102.0\n",
       "16   R  L  0.785398  0.785398  0.785398 -0.785398   370  2839.0    4687.0"
      ]
     },
     "execution_count": 6,
     "metadata": {},
     "output_type": "execute_result"
    }
   ],
   "source": [
    "# Phi-, Phi+, Decoherence contain coincidence counts\n",
    "col_names = ['idx','A', 'B', 'HWPa', 'QWPa', 'HWPb', 'QWPb', 'Phi-', 'Phi+', 'Decoher.']\n",
    "data = pd.read_excel('Tomography2025.xlsx', header=2, names=col_names, index_col='idx',usecols='A:J', nrows=16)\n",
    "id_x, id_y = np.where(data.isna())\n",
    "for id in zip(id_x, id_y):\n",
    "    data.iloc[id[0], id[1]] = data.iloc[id[0], 6]\n",
    "\n",
    "angles = pd.read_excel('Tomography2025.xlsx', header=23, names=col_names, index_col='idx',usecols='A:G', nrows=16)\n",
    "\n",
    "data.loc[:, 'HWPa':'QWPb'] = angles.loc[:, 'HWPa':'QWPb']\n",
    "data.loc[:, 'HWPa':'QWPb'] *= np.pi/180\n",
    "data"
   ]
  },
  {
   "cell_type": "code",
   "execution_count": 7,
   "id": "a748b156",
   "metadata": {},
   "outputs": [
    {
     "name": "stdout",
     "output_type": "stream",
     "text": [
      "Density matrix for Phi-:\n"
     ]
    },
    {
     "data": {
      "text/latex": [
       "Quantum object: dims=[[4], [4]], shape=(4, 4), type='oper', dtype=Dense, isherm=False$$\\left(\\begin{array}{cc}0.504 & -0.022j & (0.035+0.035j) & (-0.367+0.128j)\\\\0.022j & 0.006 & (-0.185+0.245j) & (-0.036-0.032j)\\\\(0.035-0.035j) & (-0.185-0.245j) & 0.009 & (-0.036+0.049j)\\\\(-0.367-0.128j) & (-0.036+0.026j) & (-0.036-0.049j) & 0.481\\end{array}\\right)$$"
      ],
      "text/plain": [
       "Quantum object: dims=[[4], [4]], shape=(4, 4), type='oper', dtype=Dense, isherm=False\n",
       "Qobj data =\n",
       "[[ 0.50394633+0.j         -0.00052618-0.02157327j  0.03525388+0.03512234j\n",
       "  -0.36700868+0.12825572j]\n",
       " [-0.00052618+0.02157327j  0.00591949+0.j         -0.18468824+0.24467245j\n",
       "  -0.0359116 -0.03196527j]\n",
       " [ 0.03525388-0.03512234j -0.18468824-0.24467245j  0.00933965+0.j\n",
       "  -0.03617469+0.0486714j ]\n",
       " [-0.36700868-0.12825572j -0.0359116 +0.02604578j -0.03617469-0.0486714j\n",
       "   0.48079453+0.j        ]]"
      ]
     },
     "metadata": {},
     "output_type": "display_data"
    },
    {
     "name": "stdout",
     "output_type": "stream",
     "text": [
      "---------------------------------------------------------------------------------------------\n",
      "Trace: (1+0j)\n",
      "Eigenvalues: [-0.30029286-1.33749051e-04j  0.10270105-5.38157689e-05j\n",
      "  0.3028792 -1.71078345e-05j  0.8947126 +2.04672655e-04j]\n",
      "---------------------------------------------------------------------------------------------\n",
      "--------------------------------------------------------------------------------------------- \n",
      "\n",
      "Density matrix for Phi+:\n"
     ]
    },
    {
     "data": {
      "text/latex": [
       "Quantum object: dims=[[4], [4]], shape=(4, 4), type='oper', dtype=Dense, isherm=False$$\\left(\\begin{array}{cc}0.493 & (0.011-0.033j) & (0.046+0.046j) & (0.329+0.131j)\\\\(0.011+0.033j) & 0.005 & (-0.138+0.240j) & (-0.037-0.033j)\\\\(0.046-0.046j) & (-0.138-0.240j) & 0.010 & (-0.038+0.051j)\\\\(0.329-0.131j) & (-0.037+0.028j) & (-0.038-0.051j) & 0.493\\end{array}\\right)$$"
      ],
      "text/plain": [
       "Quantum object: dims=[[4], [4]], shape=(4, 4), type='oper', dtype=Dense, isherm=False\n",
       "Qobj data =\n",
       "[[ 0.49268751+0.j          0.01080102-0.03334228j  0.04635717+0.046223j\n",
       "   0.3286596 +0.1308198j ]\n",
       " [ 0.01080102+0.03334228j  0.0046961 +0.j         -0.13793103+0.23956796j\n",
       "  -0.03703207-0.03300684j]\n",
       " [ 0.04635717-0.046223j   -0.13793103-0.23956796j  0.01006306+0.j\n",
       "  -0.03823964+0.05098618j]\n",
       " [ 0.3286596 -0.1308198j  -0.03703207+0.02831075j -0.03823964-0.05098618j\n",
       "   0.49255333+0.j        ]]"
      ]
     },
     "metadata": {},
     "output_type": "display_data"
    },
    {
     "name": "stdout",
     "output_type": "stream",
     "text": [
      "---------------------------------------------------------------------------------------------\n",
      "Trace: (1+0j)\n",
      "Eigenvalues: [-0.27134174-5.92273604e-05j  0.09084632-2.32284476e-04j\n",
      "  0.33172329+1.32462652e-04j  0.84877213+1.59049184e-04j]\n",
      "---------------------------------------------------------------------------------------------\n",
      "--------------------------------------------------------------------------------------------- \n",
      "\n",
      "Density matrix for Decoher.:\n"
     ]
    },
    {
     "data": {
      "text/latex": [
       "Quantum object: dims=[[4], [4]], shape=(4, 4), type='oper', dtype=Dense, isherm=False$$\\left(\\begin{array}{cc}0.478 & (-0.192+0.188j) & (-0.187-0.187j) & (0.532+0.025j)\\\\(-0.192-0.188j) & 0.008 & (-0.058+0.449j) & (-0.214-0.214j)\\\\(-0.187+0.187j) & (-0.058-0.449j) & 0.011 & (-0.216+0.218j)\\\\(0.532-0.025j) & (-0.214+0.206j) & (-0.216-0.218j) & 0.504\\end{array}\\right)$$"
      ],
      "text/plain": [
       "Quantum object: dims=[[4], [4]], shape=(4, 4), type='oper', dtype=Dense, isherm=False\n",
       "Qobj data =\n",
       "[[ 0.47770535+0.j         -0.19220339+0.18782269j -0.18659713-0.18662321j\n",
       "   0.53196871+0.02542373j]\n",
       " [-0.19220339-0.18782269j  0.00756193+0.j         -0.05791395+0.44938722j\n",
       "  -0.21441982-0.21363755j]\n",
       " [-0.18659713+0.18662321j -0.05791395-0.44938722j  0.01121252+0.j\n",
       "  -0.21595828+0.21843546j]\n",
       " [ 0.53196871-0.02542373j -0.21441982+0.20607562j -0.21595828-0.21843546j\n",
       "   0.50352021+0.j        ]]"
      ]
     },
     "metadata": {},
     "output_type": "display_data"
    },
    {
     "name": "stdout",
     "output_type": "stream",
     "text": [
      "---------------------------------------------------------------------------------------------\n",
      "Trace: (1+0j)\n",
      "Eigenvalues: [-0.4451866 -7.39410810e-05j -0.04726561-5.68068744e-04j\n",
      "  0.11451926-5.35860403e-04j  1.37793296+1.17787023e-03j]\n",
      "---------------------------------------------------------------------------------------------\n",
      "--------------------------------------------------------------------------------------------- \n",
      "\n"
     ]
    }
   ],
   "source": [
    "psi0 = ['Phi-', 'Phi+', 'Decoher.']\n",
    "densities = dict(zip(psi0, [Qobj(np.zeros((4,4)))]*3))\n",
    "for state in psi0:\n",
    "    counts = data[state]\n",
    "    for i in range(1, 17):\n",
    "        densities[state] += counts[i]*M[i]\n",
    "    densities[state] /= np.sum(counts[0:4])\n",
    "\n",
    "    print(f\"Density matrix for {state}:\")\n",
    "    display(densities[state].tidyup())\n",
    "    print(\"---------------------------------------------------------------------------------------------\")\n",
    "    print(f\"Trace: {densities[state].tr()}\")\n",
    "    print(f\"Eigenvalues: {densities[state].eigenenergies()}\")\n",
    "    print(\"---------------------------------------------------------------------------------------------\")\n",
    "    print(\"---------------------------------------------------------------------------------------------\", '\\n')"
   ]
  },
  {
   "cell_type": "markdown",
   "id": "18a54acf",
   "metadata": {},
   "source": [
    "# Maximum likelihood estimation"
   ]
  },
  {
   "cell_type": "code",
   "execution_count": 10,
   "id": "348f8fa4",
   "metadata": {},
   "outputs": [
    {
     "name": "stdout",
     "output_type": "stream",
     "text": [
      "|psi_0>:\n"
     ]
    },
    {
     "data": {
      "text/latex": [
       "Quantum object: dims=[[2, 2], [1, 1]], shape=(4, 1), type='ket', dtype=Dense$$\\left(\\begin{array}{cc}-1j\\\\-6.123\\times10^{ -17 }\\\\-6.123\\times10^{ -17 }\\\\1.659\\times10^{ -49 }\\end{array}\\right)$$"
      ],
      "text/plain": [
       "Quantum object: dims=[[2, 2], [1, 1]], shape=(4, 1), type='ket', dtype=Dense\n",
       "Qobj data =\n",
       "[[ 2.23711432e-17-1.00000000e+00j]\n",
       " [-6.12323400e-17+1.39778926e-33j]\n",
       " [-6.12323400e-17-1.39778926e-33j]\n",
       " [ 1.65891646e-49+3.74939946e-33j]]"
      ]
     },
     "metadata": {},
     "output_type": "display_data"
    },
    {
     "name": "stdout",
     "output_type": "stream",
     "text": [
      "Density matrix:\n"
     ]
    },
    {
     "data": {
      "text/latex": [
       "Quantum object: dims=[[2, 2], [2, 2]], shape=(4, 4), type='oper', dtype=Dense, isherm=True$$\\left(\\begin{array}{cc}0.438 & (0.312-0.062j) & (0.188-0.062j) & (0.062-0.062j)\\\\(0.312+0.062j) & 0.312 & (0.188-0.062j) & (0.062-0.062j)\\\\(0.188+0.062j) & (0.188+0.062j) & 0.188 & (0.062-0.062j)\\\\(0.062+0.062j) & (0.062+0.062j) & (0.062+0.062j) & 0.062\\end{array}\\right)$$"
      ],
      "text/plain": [
       "Quantum object: dims=[[2, 2], [2, 2]], shape=(4, 4), type='oper', dtype=Dense, isherm=True\n",
       "Qobj data =\n",
       "[[0.4375+0.j     0.3125-0.0625j 0.1875-0.0625j 0.0625-0.0625j]\n",
       " [0.3125+0.0625j 0.3125+0.j     0.1875-0.0625j 0.0625-0.0625j]\n",
       " [0.1875+0.0625j 0.1875+0.0625j 0.1875+0.j     0.0625-0.0625j]\n",
       " [0.0625+0.0625j 0.0625+0.0625j 0.0625+0.0625j 0.0625+0.j    ]]"
      ]
     },
     "metadata": {},
     "output_type": "display_data"
    },
    {
     "name": "stdout",
     "output_type": "stream",
     "text": [
      "Trace: 1.0\n",
      "Eigenvalues: [0.00460126 0.03507357 0.11137304 0.84895213]\n",
      "Likelihood: 27783.425170694434\n"
     ]
    }
   ],
   "source": [
    "HH = tensor(basis(2, 0), basis(2, 0))\n",
    "HV = tensor(basis(2, 0), basis(2, 1))\n",
    "VH = tensor(basis(2, 1), basis(2, 0))\n",
    "VV = tensor(basis(2, 1), basis(2, 1))\n",
    "\n",
    "def a(h, q):\n",
    "    return 1/np.sqrt(2) * (np.sin(2*h) - 1j*np.sin(2*(h-q)))\n",
    "def b(h, q):\n",
    "    return -1/np.sqrt(2) * (np.cos(2*h) + 1j*np.cos(2*(h-q)))\n",
    "\n",
    "projection_states = []\n",
    "# A\tB\tHWPa\tQWPa\tHWPb\tQWPb\tPhi-\tPhi+\tDecoher.\n",
    "for i in range(16):\n",
    "    row = data.iloc[i, :]\n",
    "    projection_states.append(Qobj(\n",
    "        a(row['HWPa'], row['QWPa'])*a(row['HWPb'], row['QWPb'])*HH +\n",
    "        a(row['HWPa'], row['QWPa'])*b(row['HWPb'], row['QWPb'])*HV +\n",
    "        b(row['HWPa'], row['QWPa'])*a(row['HWPb'], row['QWPb'])*VH +\n",
    "        b(row['HWPa'], row['QWPa'])*b(row['HWPb'], row['QWPb'])*VV\n",
    "        ).unit())\n",
    "\n",
    "print(\"|psi_0>:\")\n",
    "display(projection_states[2])\n",
    "\n",
    "def rho_p(t):\n",
    "    T = Qobj(\n",
    "        [[t[0], 0, 0, 0],\n",
    "         [t[4]+1j*t[5], t[1], 0, 0],\n",
    "         [t[10]+1j*t[11], t[6]+1j*t[7], t[2], 0],\n",
    "         [t[14]+1j*t[15], t[12]+1j*t[13], t[8]+1j*t[9], t[3]]],\n",
    "         dims=[[2,2],[2,2]]\n",
    "    )\n",
    "    G = T.dag()*T\n",
    "    return  (G/G.tr()).tidyup()\n",
    "\n",
    "c = [1]*16\n",
    "rho = rho_p(c)\n",
    "print(f'Density matrix:')\n",
    "display(rho)\n",
    "print(f'Trace: {rho.tr()}')\n",
    "print(f'Eigenvalues: {rho.eigenenergies()}')\n",
    "\n",
    "#print(f'<psi|rho|ket>/N = {projection_states[0].dag() * rho * projection_states[0]}')\n",
    "\n",
    "\n",
    "def likelihood(t, data):\n",
    "    out = 0\n",
    "    measures = np.array(data)\n",
    "    N = np.sum(measures[0:4])\n",
    "    for i in range(16):\n",
    "        psi = projection_states[i]\n",
    "        bra_rho_ket = np.real(psi.dag() * rho_p(t) * psi)\n",
    "        out += (N*bra_rho_ket - measures[i])**2 / (2*N*bra_rho_ket)\n",
    "    return out\n",
    "    \n",
    "print(f'Likelihood: {likelihood([1]*16, data['Phi-'])}')"
   ]
  },
  {
   "cell_type": "code",
   "execution_count": 11,
   "id": "12c5588c",
   "metadata": {},
   "outputs": [
    {
     "name": "stdout",
     "output_type": "stream",
     "text": [
      "Best solution with likelihood 9.354383646030767:\n",
      "Eigenvalues: [1.15633198e-09 4.19337652e-03 9.67603847e-02 8.99046238e-01]\n",
      "Tr[⍴] = 1.0\n",
      "Tr[⍴^2] = 0.8176642939113488\n"
     ]
    },
    {
     "data": {
      "text/latex": [
       "Quantum object: dims=[[2, 2], [2, 2]], shape=(4, 4), type='oper', dtype=Dense, isherm=True$$\\left(\\begin{array}{cc}0.480 & (0.028+0.048j) & (0.035-0.029j) & (-0.380-0.119j)\\\\(0.028-0.048j) & 0.010 & -0.007j & (-0.033+0.035j)\\\\(0.035+0.029j) & 0.007j & 0.006 & (-0.012-0.023j)\\\\(-0.380+0.119j) & (-0.033-0.035j) & (-0.012+0.023j) & 0.504\\end{array}\\right)$$"
      ],
      "text/plain": [
       "Quantum object: dims=[[2, 2], [2, 2]], shape=(4, 4), type='oper', dtype=Dense, isherm=True\n",
       "Qobj data =\n",
       "[[ 4.79918163e-01+0.j          2.79999004e-02+0.04798375j\n",
       "   3.46714402e-02-0.02864458j -3.79644536e-01-0.11896875j]\n",
       " [ 2.79999004e-02-0.04798375j  9.58511622e-03+0.j\n",
       "  -3.01316766e-04-0.006922j   -3.34120796e-02+0.03485002j]\n",
       " [ 3.46714402e-02+0.02864458j -3.01316766e-04+0.006922j\n",
       "   6.21817476e-03+0.j         -1.22431422e-02-0.02315912j]\n",
       " [-3.79644536e-01+0.11896875j -3.34120796e-02-0.03485002j\n",
       "  -1.22431422e-02+0.02315912j  5.04278546e-01+0.j        ]]"
      ]
     },
     "execution_count": 11,
     "metadata": {},
     "output_type": "execute_result"
    }
   ],
   "source": [
    "state_name = 'Phi-'\n",
    "density = densities[state_name]\n",
    "rho0 = density.full()\n",
    "\n",
    "def first_minor(matrix, row, col):\n",
    "    return la.det(np.delete(np.delete(matrix, row, 0), col, 1))\n",
    "\n",
    "def second_minor(matrix, rows, cols):\n",
    "    return la.det(np.delete(np.delete(matrix, rows, 0), cols, 1))\n",
    "\n",
    "Delta  = np.sqrt(la.det(rho0))\n",
    "rho44  = np.sqrt(rho0[3, 3])\n",
    "M11    = np.sqrt(first_minor(rho0, 0, 0))\n",
    "M12    = first_minor(rho0, 0, 1)\n",
    "M11_22 = np.sqrt(second_minor(rho0, [0,1], [0,1]))\n",
    "M12_23 = second_minor(rho0, [0,1], [1,2])\n",
    "M11_23 = second_minor(rho0, [0,1], [0,2])\n",
    "\n",
    "t0 = [\n",
    "    np.real(Delta/M11),\n",
    "    np.real(M11/M11_22),\n",
    "    np.real(M11_22/rho44),\n",
    "    np.real(rho44),                 # t4\n",
    "    np.real(M12/(M11*M11_22)),\n",
    "    np.imag(M12/(M11*M11_22)),\n",
    "    np.real(M11_23/(rho44*M11_22)),\n",
    "    np.imag(M11_23/(rho44*M11_22)), # t8\n",
    "    np.real(rho0[3,2]/rho44),\n",
    "    np.imag(rho0[3,2]/rho44),\n",
    "    np.real(M12_23/(rho44*M11_22)),\n",
    "    np.imag(M12_23/(rho44*M11_22)), # t12\n",
    "    np.real(rho0[3,1]/rho44),\n",
    "    np.imag(rho0[3,1]/rho44),\n",
    "    np.real(rho0[3,0]/rho44),\n",
    "    np.imag(rho0[3,0]/rho44)\n",
    "]\n",
    "\n",
    "# print(f'Determinant: {Delta}')\n",
    "# print(f'Minor^11: {M11}')\n",
    "# print(f'Minor^11_22: {M11_22}')\n",
    "\n",
    "\n",
    "solution = minimize(lambda t: likelihood(t, data[state_name]), t0, method='Powell')\n",
    "print(f'Best solution with likelihood {likelihood(solution.x, data[state_name])}:')\n",
    "rho_ = rho_p(solution.x)\n",
    "print(f'Eigenvalues: {rho_.eigenenergies()}')\n",
    "print(f'Tr[⍴] = {(rho_).tr()}')\n",
    "print(f'Tr[⍴^2] = {(rho_*rho_).tr()}')\n",
    "rho_.tidyup()"
   ]
  },
  {
   "cell_type": "markdown",
   "id": "571d56c7",
   "metadata": {},
   "source": [
    "# Fidelity, Von Neuman entropy, Concurrence"
   ]
  },
  {
   "cell_type": "code",
   "execution_count": 13,
   "id": "8ce926d7",
   "metadata": {},
   "outputs": [],
   "source": [
    "def computeRelevantQuantities(rho, psi0 = None):\n",
    "\n",
    "    eigenvalues = rho.eigenenergies()\n",
    "    if np.any(np.imag(eigenvalues) > 1e-8):\n",
    "        print(\"Eigenvalues are complex!\")\n",
    "    else :\n",
    "        eigenvalues = np.real(eigenvalues)\n",
    "    entropy = -np.sum(eigenvalues*np.log(eigenvalues))   \n",
    "\n",
    "    spin_flip = Qobj([\n",
    "        [0,0,0,-1],\n",
    "        [0,0,1,0],\n",
    "        [0,1,0,0],\n",
    "        [-1,0,0,0]\n",
    "    ], dims=[[2,2],[2,2]])\n",
    "    R = 0.5*rho*spin_flip*rho.trans()*spin_flip\n",
    "    r = R.eigenenergies()[::-1]\n",
    "    j = np.sqrt(r)\n",
    "    concurr = np.real(np.maximum(0, j[0]-np.sum(j[1:])))\n",
    "\n",
    "    if psi0 != None:\n",
    "        fidelity = np.real(psi0.dag() * rho * psi0)\n",
    "        return fidelity, entropy, concurr\n",
    "    else:\n",
    "        return entropy, concurr"
   ]
  },
  {
   "cell_type": "code",
   "execution_count": 14,
   "id": "17bcc14a",
   "metadata": {},
   "outputs": [
    {
     "data": {
      "text/plain": [
       "(0.8717428908412865, 0.34461842614408494, 0.5670044439010632)"
      ]
     },
     "execution_count": 14,
     "metadata": {},
     "output_type": "execute_result"
    }
   ],
   "source": [
    "computeRelevantQuantities(rho_, bell_state('01'))\n",
    "# bell_state('10')"
   ]
  },
  {
   "cell_type": "markdown",
   "id": "94945ab8",
   "metadata": {},
   "source": [
    "# Errors"
   ]
  },
  {
   "cell_type": "code",
   "execution_count": 15,
   "id": "1e244200",
   "metadata": {},
   "outputs": [
    {
     "name": "stderr",
     "output_type": "stream",
     "text": [
      "/var/folders/bq/c0v_5_v15yv4wrwpv0d4mc1r0000gn/T/ipykernel_3909/267237848.py:8: RuntimeWarning: invalid value encountered in log\n"
     ]
    },
    {
     "data": {
      "text/plain": [
       "(0.010680583734972467, nan, 0.013217930516391916)"
      ]
     },
     "execution_count": 15,
     "metadata": {},
     "output_type": "execute_result"
    }
   ],
   "source": [
    "def generateEnsamble(measures, psi0):\n",
    "    solution = minimize(lambda t: likelihood(t, measures), t0)\n",
    "    simulated_rho = rho_p(solution.x)\n",
    "    return computeRelevantQuantities(simulated_rho, psi0)\n",
    "\n",
    "\n",
    "def computeErrors(measures, psi0 = None, N = 100):\n",
    "    '''\n",
    "    Generates N random density matrices and computes parameters errors as standard deviations of the parameters population\n",
    "    '''\n",
    "\n",
    "    simulated_data = rnd.poisson(measures, (N, measures.shape[0]))\n",
    "\n",
    "    if psi0 != None:\n",
    "        fidel, entropy, concurr = zip(*Parallel(n_jobs=6)(delayed(generateEnsamble)(simulated_data[i, :], psi0) for i in range(N)))\n",
    "        return np.std(list(fidel)), np.std(list(entropy)), np.std(list(concurr))\n",
    "    else: \n",
    "        entropies, concurr = zip(*Parallel(n_jobs=6)(delayed(generateEnsamble)(simulated_data[i, :], psi0) for i in range(N)))\n",
    "        return np.std(list(entropies)), np.std(list(concurr))\n",
    "\n",
    "\n",
    "computeErrors(data['Phi-'], bell_state('01'), N=100)\n",
    "\n"
   ]
  }
 ],
 "metadata": {
  "kernelspec": {
   "display_name": "base",
   "language": "python",
   "name": "python3"
  },
  "language_info": {
   "codemirror_mode": {
    "name": "ipython",
    "version": 3
   },
   "file_extension": ".py",
   "mimetype": "text/x-python",
   "name": "python",
   "nbconvert_exporter": "python",
   "pygments_lexer": "ipython3",
   "version": "3.12.7"
  }
 },
 "nbformat": 4,
 "nbformat_minor": 5
}
